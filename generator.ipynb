{
 "cells": [
  {
   "cell_type": "markdown",
   "metadata": {},
   "source": [
    "## Poetry generator"
   ]
  },
  {
   "cell_type": "code",
   "execution_count": 57,
   "metadata": {},
   "outputs": [],
   "source": [
    "# Dependencies\n",
    "from random import seed\n",
    "from random import randint\n",
    "from random import random\n",
    "\n",
    "# Show all outputs\n",
    "from IPython.core.interactiveshell import InteractiveShell\n",
    "InteractiveShell.ast_node_interactivity = \"all\""
   ]
  },
  {
   "cell_type": "code",
   "execution_count": 96,
   "metadata": {},
   "outputs": [
    {
     "data": {
      "text/plain": [
       "['Lorem ipsum dolor sit amet, consectetur adipiscing elit, sed do eiusmod tempor incididunt ut labore et dolore magna aliqua. Ut enim ad minim veniam, quis nostrud exercitation ullamco laboris nisi ut aliquip ex ea commodo consequat. Duis aute irure dolor in reprehenderit in voluptate velit esse cillum dolore eu fugiat nulla pariatur. Excepteur sint occaecat cupidatat non proident, sunt in culpa qui officia deserunt mollit anim id est laborum.\\n']"
      ]
     },
     "execution_count": 96,
     "metadata": {},
     "output_type": "execute_result"
    },
    {
     "data": {
      "text/plain": [
       "['Lorem',\n",
       " 'ipsum',\n",
       " 'dolor',\n",
       " 'sit',\n",
       " 'amet,',\n",
       " 'consectetur',\n",
       " 'adipiscing',\n",
       " 'elit,',\n",
       " 'sed',\n",
       " 'do',\n",
       " 'eiusmod',\n",
       " 'tempor',\n",
       " 'incididunt',\n",
       " 'ut',\n",
       " 'labore',\n",
       " 'et',\n",
       " 'dolore',\n",
       " 'magna',\n",
       " 'aliqua.',\n",
       " 'Ut',\n",
       " 'enim',\n",
       " 'ad',\n",
       " 'minim',\n",
       " 'veniam,',\n",
       " 'quis',\n",
       " 'nostrud',\n",
       " 'exercitation',\n",
       " 'ullamco',\n",
       " 'laboris',\n",
       " 'nisi',\n",
       " 'ut',\n",
       " 'aliquip',\n",
       " 'ex',\n",
       " 'ea',\n",
       " 'commodo',\n",
       " 'consequat.',\n",
       " 'Duis',\n",
       " 'aute',\n",
       " 'irure',\n",
       " 'dolor',\n",
       " 'in',\n",
       " 'reprehenderit',\n",
       " 'in',\n",
       " 'voluptate',\n",
       " 'velit',\n",
       " 'esse',\n",
       " 'cillum',\n",
       " 'dolore',\n",
       " 'eu',\n",
       " 'fugiat',\n",
       " 'nulla',\n",
       " 'pariatur.',\n",
       " 'Excepteur',\n",
       " 'sint',\n",
       " 'occaecat',\n",
       " 'cupidatat',\n",
       " 'non',\n",
       " 'proident,',\n",
       " 'sunt',\n",
       " 'in',\n",
       " 'culpa',\n",
       " 'qui',\n",
       " 'officia',\n",
       " 'deserunt',\n",
       " 'mollit',\n",
       " 'anim',\n",
       " 'id',\n",
       " 'est',\n",
       " 'laborum.\\n']"
      ]
     },
     "execution_count": 96,
     "metadata": {},
     "output_type": "execute_result"
    }
   ],
   "source": [
    "# First load in corpus\n",
    "with open('loremipsum.txt') as f:\n",
    "    lines = f.readlines()\n",
    "lines\n",
    "\n",
    "# Turn list into string\n",
    "lines = \" \".join(lines)\n",
    "\n",
    "# Now tokenise corpus\n",
    "words = lines.split(\" \")\n",
    "words"
   ]
  },
  {
   "cell_type": "code",
   "execution_count": 121,
   "metadata": {},
   "outputs": [
    {
     "data": {
      "text/plain": [
       "[' ',\n",
       " '\\n',\n",
       " ' ',\n",
       " '\\n',\n",
       " ' ',\n",
       " 'sint',\n",
       " 'sed',\n",
       " ' ',\n",
       " 'ad',\n",
       " 'est',\n",
       " 'consectetur',\n",
       " '\\n',\n",
       " 'amet,',\n",
       " ' ',\n",
       " '\\n',\n",
       " 'pariatur.',\n",
       " 'laboris',\n",
       " 'fugiat',\n",
       " ' ',\n",
       " 'est']"
      ]
     },
     "execution_count": 121,
     "metadata": {},
     "output_type": "execute_result"
    },
    {
     "data": {
      "text/plain": [
       "'  \\n   \\n   sint sed   ad est consectetur \\n amet,   \\n pariatur. laboris fugiat   est'"
      ]
     },
     "execution_count": 121,
     "metadata": {},
     "output_type": "execute_result"
    }
   ],
   "source": [
    "# Select random subset of words\n",
    "\n",
    "poem_length = randint(1, 30)\n",
    "\n",
    "poem = []\n",
    "space = \" \"\n",
    "newline = \"\\n\"\n",
    "for i in range(1, poem_length):\n",
    "    which_one = random()\n",
    "    if which_one <= 0.33:\n",
    "        poem.append(words[randint(0, len(words))])\n",
    "    elif which_one >= 0.34 and which_one <= 0.66:\n",
    "        poem.append(space)\n",
    "    elif which_one >= 0.67:\n",
    "        poem.append(newline)\n",
    "    \n",
    "\n",
    "\n",
    "# Jitter subset of words, add in random amount of whitespace and random amount of linebreaks (within a range)\n",
    "\n",
    "# for i in range(len(poem)):\n",
    "#     space = \" \"\n",
    "#     newline = \"\\n\"\n",
    "#     poem.insert(i, newline)\n",
    "\n",
    "poem\n",
    "\n",
    "# Turn poem into string again\n",
    "poem = \" \".join(poem)\n",
    "poem"
   ]
  },
  {
   "cell_type": "code",
   "execution_count": 95,
   "metadata": {},
   "outputs": [
    {
     "data": {
      "text/plain": [
       "84"
      ]
     },
     "execution_count": 95,
     "metadata": {},
     "output_type": "execute_result"
    }
   ],
   "source": [
    "# Write poem to text file\n",
    "with open(\"poem.txt\", \"w\") as f:\n",
    "    f.write(poem)"
   ]
  }
 ],
 "metadata": {
  "kernelspec": {
   "display_name": "Python 3.9.12 ('main')",
   "language": "python",
   "name": "python3"
  },
  "language_info": {
   "codemirror_mode": {
    "name": "ipython",
    "version": 3
   },
   "file_extension": ".py",
   "mimetype": "text/x-python",
   "name": "python",
   "nbconvert_exporter": "python",
   "pygments_lexer": "ipython3",
   "version": "3.9.12"
  },
  "orig_nbformat": 4,
  "vscode": {
   "interpreter": {
    "hash": "3916f24e74a0edede9edf44696d7787b6cbb3e7fe17b754581258f8a8c65c62a"
   }
  }
 },
 "nbformat": 4,
 "nbformat_minor": 2
}
