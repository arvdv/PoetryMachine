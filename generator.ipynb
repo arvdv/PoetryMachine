{
 "cells": [
  {
   "cell_type": "markdown",
   "metadata": {},
   "source": [
    "## Poetry generator"
   ]
  },
  {
   "cell_type": "code",
   "execution_count": 57,
   "metadata": {},
   "outputs": [],
   "source": [
    "# Dependencies\n",
    "from random import seed\n",
    "from random import randint\n",
    "from random import random\n",
    "\n",
    "# Show all outputs\n",
    "from IPython.core.interactiveshell import InteractiveShell\n",
    "InteractiveShell.ast_node_interactivity = \"all\""
   ]
  },
  {
   "cell_type": "code",
   "execution_count": 6,
   "metadata": {},
   "outputs": [
    {
     "data": {
      "text/plain": [
       "['Lorem',\n",
       " 'ipsum',\n",
       " 'dolor',\n",
       " 'sit',\n",
       " 'amet,',\n",
       " 'consectetur',\n",
       " 'adipiscing',\n",
       " 'elit,',\n",
       " 'sed',\n",
       " 'do',\n",
       " 'eiusmod',\n",
       " 'tempor',\n",
       " 'incididunt',\n",
       " 'ut',\n",
       " 'labore',\n",
       " 'et',\n",
       " 'dolore',\n",
       " 'magna',\n",
       " 'aliqua.',\n",
       " 'Ut',\n",
       " 'enim',\n",
       " 'ad',\n",
       " 'minim',\n",
       " 'veniam,',\n",
       " 'quis',\n",
       " 'nostrud',\n",
       " 'exercitation',\n",
       " 'ullamco',\n",
       " 'laboris',\n",
       " 'nisi',\n",
       " 'ut',\n",
       " 'aliquip',\n",
       " 'ex',\n",
       " 'ea',\n",
       " 'commodo',\n",
       " 'consequat.',\n",
       " 'Duis',\n",
       " 'aute',\n",
       " 'irure',\n",
       " 'dolor',\n",
       " 'in',\n",
       " 'reprehenderit',\n",
       " 'in',\n",
       " 'voluptate',\n",
       " 'velit',\n",
       " 'esse',\n",
       " 'cillum',\n",
       " 'dolore',\n",
       " 'eu',\n",
       " 'fugiat',\n",
       " 'nulla',\n",
       " 'pariatur.',\n",
       " 'Excepteur',\n",
       " 'sint',\n",
       " 'occaecat',\n",
       " 'cupidatat',\n",
       " 'non',\n",
       " 'proident,',\n",
       " 'sunt',\n",
       " 'in',\n",
       " 'culpa',\n",
       " 'qui',\n",
       " 'officia',\n",
       " 'deserunt',\n",
       " 'mollit',\n",
       " 'anim',\n",
       " 'id',\n",
       " 'est',\n",
       " 'laborum.\\n']"
      ]
     },
     "execution_count": 6,
     "metadata": {},
     "output_type": "execute_result"
    }
   ],
   "source": [
    "# First load in corpus\n",
    "with open('loremipsum.txt') as f:\n",
    "    lines = f.readlines()\n",
    "lines\n",
    "\n",
    "# Turn list into string\n",
    "lines = \" \".join(lines)\n",
    "\n",
    "# Now tokenise corpus\n",
    "words = lines.split(\" \")\n",
    "words"
   ]
  },
  {
   "cell_type": "code",
   "execution_count": 94,
   "metadata": {},
   "outputs": [
    {
     "data": {
      "text/plain": [
       "['incididunt',\n",
       " 'laborum.\\n',\n",
       " '\\n',\n",
       " 'in',\n",
       " '\\n',\n",
       " 'tempor',\n",
       " 'cupidatat',\n",
       " '\\n',\n",
       " '\\n',\n",
       " ' ',\n",
       " '\\n',\n",
       " ' ',\n",
       " '\\n',\n",
       " '\\n',\n",
       " ' ',\n",
       " ' ',\n",
       " '\\n',\n",
       " ' ',\n",
       " '\\n',\n",
       " 'eu',\n",
       " '\\n',\n",
       " '\\n',\n",
       " 'id',\n",
       " '\\n',\n",
       " '\\n',\n",
       " '\\n']"
      ]
     },
     "execution_count": 94,
     "metadata": {},
     "output_type": "execute_result"
    },
    {
     "data": {
      "text/plain": [
       "'incididunt laborum.\\n \\n in \\n tempor cupidatat \\n \\n   \\n   \\n \\n     \\n   \\n eu \\n \\n id \\n \\n \\n'"
      ]
     },
     "execution_count": 94,
     "metadata": {},
     "output_type": "execute_result"
    }
   ],
   "source": [
    "# Select random subset of words\n",
    "\n",
    "poem_length = randint(0, 30)\n",
    "\n",
    "poem = []\n",
    "space = \" \"\n",
    "newline = \"\\n\"\n",
    "for i in range(1, poem_length):\n",
    "    # whitespace = randint(1, 10)\n",
    "    # linebreaks = randint(0, 3)\n",
    "    which_one = random()\n",
    "    if which_one <= 0.33:\n",
    "        poem.append(words[randint(0, len(words))])\n",
    "    elif which_one >= 0.34 and which_one <= 0.66:\n",
    "        poem.append(space)\n",
    "    elif which_one >= 0.67:\n",
    "        poem.append(newline)\n",
    "    \n",
    "\n",
    "\n",
    "# Jitter subset of words, add in random amount of whitespace and random amount of linebreaks (within a range)\n",
    "\n",
    "# for i in range(len(poem)):\n",
    "#     space = \" \"\n",
    "#     newline = \"\\n\"\n",
    "#     poem.insert(i, newline)\n",
    "\n",
    "poem\n",
    "\n",
    "# Turn poem into string again\n",
    "poem = \" \".join(poem)\n",
    "poem"
   ]
  },
  {
   "cell_type": "code",
   "execution_count": 95,
   "metadata": {},
   "outputs": [
    {
     "data": {
      "text/plain": [
       "84"
      ]
     },
     "execution_count": 95,
     "metadata": {},
     "output_type": "execute_result"
    }
   ],
   "source": [
    "# Write poem to text file\n",
    "with open(\"poem.txt\", \"w\") as f:\n",
    "    f.write(poem)"
   ]
  }
 ],
 "metadata": {
  "kernelspec": {
   "display_name": "Python 3.9.12 ('main')",
   "language": "python",
   "name": "python3"
  },
  "language_info": {
   "codemirror_mode": {
    "name": "ipython",
    "version": 3
   },
   "file_extension": ".py",
   "mimetype": "text/x-python",
   "name": "python",
   "nbconvert_exporter": "python",
   "pygments_lexer": "ipython3",
   "version": "3.9.12"
  },
  "orig_nbformat": 4,
  "vscode": {
   "interpreter": {
    "hash": "3916f24e74a0edede9edf44696d7787b6cbb3e7fe17b754581258f8a8c65c62a"
   }
  }
 },
 "nbformat": 4,
 "nbformat_minor": 2
}
